{
 "cells": [
  {
   "cell_type": "markdown",
   "id": "c39352a2-f86b-4de8-8acf-445f3aa323dd",
   "metadata": {},
   "source": [
    "# Part 1. Closed Queuing network simulation"
   ]
  },
  {
   "cell_type": "markdown",
   "id": "58de3866-87a9-47f9-a201-54cf1eb82c36",
   "metadata": {},
   "source": [
    "Build a simulator to capture the following system and answer the questions below. A total of N=40 jobs circulate in different parts of the systems: CPU, disk, and resting area. There is one CPU and two disks, one slow and one fast. Each job starts at the CPU station and takes an average of 2 seconds. After CPU, a job fetches the data from the disk, needing an average of 3000 disk cycles. There are two possible choices of disks, fast and slow, which have a speed of 1000 cycles per second and 100 cycles per seconds, respectively. After the disk station, the job can rest for 15 seconds on average. The figure below gives an overview of the system:\n",
    "<center>\n",
    "    <figure>\n",
    "        <img src=\"Model.png\" width=\"300\"/>\n",
    "    </figure>\n",
    "</center>"
   ]
  },
  {
   "cell_type": "code",
   "execution_count": null,
   "id": "e1391f9d-0a99-4ad8-8738-1931f4ba9c09",
   "metadata": {},
   "outputs": [],
   "source": [
    "pip install simpy"
   ]
  },
  {
   "cell_type": "code",
   "execution_count": null,
   "id": "b8fc7942-de57-4815-9e68-fe5be58b650a",
   "metadata": {},
   "outputs": [],
   "source": [
    "from typing import Generator\n",
    "\n",
    "import matplotlib.pyplot as plt\n",
    "import numpy as np\n",
    "import simpy\n",
    "from matplotlib.axes import Axes\n",
    "from matplotlib.figure import Figure\n",
    "\n",
    "RNG = np.random.default_rng(seed=0)"
   ]
  },
  {
   "cell_type": "code",
   "execution_count": null,
   "id": "99dc3ecc-13f3-4a3e-9200-6dcce59ce7a9",
   "metadata": {},
   "outputs": [],
   "source": [
    "class ClosedQueuingNet:\n",
    "    def __init__(self, lambda_s:float) -> None:\n",
    "        self.env = simpy.Environement()\n",
    "        self.beta_s = 1.0 / lambda_s\n",
    "        \n"
   ]
  },
  {
   "cell_type": "markdown",
   "id": "ff82eeb6-52b2-4225-9584-5836849a4ce4",
   "metadata": {},
   "source": [
    "## Questions :\n",
    "1. What will be the maximal system throughput in terms of number of jobs, given two different load balancing strategies for sending jobs between the fast and slow disk? You need to come up with two load balancing strategies and compare them.\n",
    "2. What will the system throughput and average response time of a job be if a faster CPU is used? Say, CPU time is reduced to 1 seconds on average and the rest of the system remains the same.\n",
    "3. What will the system throughput and average response time of a job be if a second fast disk is added? Again, you need to compare the throughput under two different load balancing strategies.\n",
    "4. What will the system throughput and average response time of a job be if a faster CPU is used and a second fast disk is added? And, you use the better load balancing strategies out of two you propose in the first question?\n",
    "5. If you can answer all the above questions with different number of N and plot them in the following style:\n",
    "<center>\n",
    "    <figure>\n",
    "        <img src=\"Q5Graphics.png\" width=\"400\"/>\n",
    "    </figure>\n",
    "</center>"
   ]
  },
  {
   "cell_type": "code",
   "execution_count": null,
   "id": "52c67b03-2727-4dfa-abf8-58f548b2de94",
   "metadata": {},
   "outputs": [],
   "source": []
  },
  {
   "cell_type": "markdown",
   "id": "3ea75b31-29df-4387-ac7d-124f48ed4f9c",
   "metadata": {},
   "source": [
    "# Part 2. Open Queuing network simulation"
   ]
  },
  {
   "cell_type": "code",
   "execution_count": null,
   "id": "de50073d-d835-4d57-9205-8638809933b0",
   "metadata": {},
   "outputs": [],
   "source": []
  }
 ],
 "metadata": {
  "kernelspec": {
   "display_name": "Python3",
   "language": "python",
   "name": "python3"
  },
  "language_info": {
   "codemirror_mode": {
    "name": "ipython",
    "version": 3
   },
   "file_extension": ".py",
   "mimetype": "text/x-python",
   "name": "python",
   "nbconvert_exporter": "python",
   "pygments_lexer": "ipython3",
   "version": "3.12.5"
  }
 },
 "nbformat": 4,
 "nbformat_minor": 5
}
